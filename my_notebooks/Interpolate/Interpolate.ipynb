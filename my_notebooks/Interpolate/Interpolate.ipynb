{
 "cells": [
  {
   "cell_type": "code",
   "execution_count": null,
   "metadata": {},
   "outputs": [],
   "source": [
    "from diffusers import KandinskyPriorPipeline, KandinskyPipeline\n",
    "from diffusers.utils import load_image\n",
    "import PIL\n",
    "\n",
    "import torch\n",
    "from torchvision import transforms\n",
    "\n",
    "pipe_prior = KandinskyPriorPipeline.from_pretrained(\"kandinsky-community/kandinsky-2-1-prior\", torch_dtype=torch.float16)\n",
    "pipe_prior.to(\"cuda\")\n",
    "\n",
    "img1 = load_image(\n",
    "    \"https://huggingface.co/datasets/hf-internal-testing/diffusers-images/resolve/main\" \"/kandinsky/cat.png\"\n",
    ")\n",
    "\n",
    "img2 = load_image(\n",
    "    \"https://huggingface.co/datasets/hf-internal-testing/diffusers-images/resolve/main\" \"/kandinsky/starry_night.jpeg\"\n",
    ")\n",
    "\n",
    "images_texts = [\"a cat\", img1, img2]\n",
    "weights = [0.3, 0.3, 0.4]\n",
    "image_emb, zero_image_emb = pipe_prior.interpolate(images_texts, weights)\n",
    "\n",
    "pipe = KandinskyPipeline.from_pretrained(\"kandinsky-community/kandinsky-2-1\", torch_dtype=torch.float16)\n",
    "pipe.to(\"cuda\")\n",
    "\n",
    "image = pipe(\n",
    "    \"\", image_embeds=image_emb, negative_image_embeds=zero_image_emb, height=768, width=768, num_inference_steps=150\n",
    ").images[0]\n",
    "\n",
    "image.save(\"starry_cat.png\")\n"
   ]
  }
 ],
 "metadata": {
  "language_info": {
   "name": "python"
  },
  "orig_nbformat": 4
 },
 "nbformat": 4,
 "nbformat_minor": 2
}
