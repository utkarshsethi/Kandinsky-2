{
 "cells": [
  {
   "cell_type": "code",
   "execution_count": 1,
   "metadata": {},
   "outputs": [
    {
     "name": "stdout",
     "output_type": "stream",
     "text": [
      "pip 23.2.1 from c:\\Users\\utkar\\miniconda3\\envs\\kandinsky2_env\\Lib\\site-packages\\pip (python 3.11)\n",
      "\n"
     ]
    }
   ],
   "source": [
    "!python -m pip --version"
   ]
  },
  {
   "cell_type": "code",
   "execution_count": 2,
   "metadata": {},
   "outputs": [
    {
     "name": "stdout",
     "output_type": "stream",
     "text": [
      "Tue Sep  5 21:26:45 2023       \n",
      "+---------------------------------------------------------------------------------------+\n",
      "| NVIDIA-SMI 536.99                 Driver Version: 536.99       CUDA Version: 12.2     |\n",
      "|-----------------------------------------+----------------------+----------------------+\n",
      "| GPU  Name                     TCC/WDDM  | Bus-Id        Disp.A | Volatile Uncorr. ECC |\n",
      "| Fan  Temp   Perf          Pwr:Usage/Cap |         Memory-Usage | GPU-Util  Compute M. |\n",
      "|                                         |                      |               MIG M. |\n",
      "|=========================================+======================+======================|\n",
      "|   0  NVIDIA GeForce RTX 3060 ...  WDDM  | 00000000:01:00.0 Off |                  N/A |\n",
      "| N/A   51C    P8              10W /  65W |      0MiB /  6144MiB |      0%      Default |\n",
      "|                                         |                      |                  N/A |\n",
      "+-----------------------------------------+----------------------+----------------------+\n",
      "                                                                                         \n",
      "+---------------------------------------------------------------------------------------+\n",
      "| Processes:                                                                            |\n",
      "|  GPU   GI   CI        PID   Type   Process name                            GPU Memory |\n",
      "|        ID   ID                                                             Usage      |\n",
      "|=======================================================================================|\n",
      "+---------------------------------------------------------------------------------------+\n"
     ]
    }
   ],
   "source": [
    "!nvidia-smi"
   ]
  },
  {
   "cell_type": "code",
   "execution_count": 12,
   "metadata": {},
   "outputs": [],
   "source": [
    "# !pip install jupyterlab-nvdashboard\n",
    "# !jupyter labextension install jupyterlab-nvdashboard\n",
    "# from jupyterlab_nvdashboard import NVDashboard\n",
    "# NVDashboard()"
   ]
  },
  {
   "cell_type": "code",
   "execution_count": 3,
   "metadata": {},
   "outputs": [
    {
     "name": "stdout",
     "output_type": "stream",
     "text": [
      "Collecting git+https://github.com/ai-forever/Kandinsky-2.git\n",
      "  Cloning https://github.com/ai-forever/Kandinsky-2.git to c:\\users\\utkar\\appdata\\local\\temp\\pip-req-build-8ir5p0wn\n",
      "  Resolved https://github.com/ai-forever/Kandinsky-2.git to commit 33c3176c39d7138a66ec4fa264c17a6c7181745a\n",
      "  Preparing metadata (setup.py): started\n",
      "  Preparing metadata (setup.py): finished with status 'done'\n",
      "Requirement already satisfied: Pillow in c:\\users\\utkar\\appdata\\roaming\\python\\python311\\site-packages (from kandinsky2==0.0.0) (10.0.0)\n",
      "Requirement already satisfied: attrs in c:\\users\\utkar\\appdata\\roaming\\python\\python311\\site-packages (from kandinsky2==0.0.0) (23.1.0)\n",
      "Requirement already satisfied: torch in c:\\users\\utkar\\appdata\\roaming\\python\\python311\\site-packages (from kandinsky2==0.0.0) (2.0.1)\n",
      "Requirement already satisfied: filelock in c:\\users\\utkar\\appdata\\roaming\\python\\python311\\site-packages (from kandinsky2==0.0.0) (3.12.2)\n",
      "Requirement already satisfied: requests in c:\\users\\utkar\\appdata\\roaming\\python\\python311\\site-packages (from kandinsky2==0.0.0) (2.31.0)\n",
      "Requirement already satisfied: tqdm in c:\\users\\utkar\\appdata\\roaming\\python\\python311\\site-packages (from kandinsky2==0.0.0) (4.66.1)\n",
      "Requirement already satisfied: ftfy in c:\\users\\utkar\\appdata\\roaming\\python\\python311\\site-packages (from kandinsky2==0.0.0) (6.1.1)\n",
      "Requirement already satisfied: regex in c:\\users\\utkar\\appdata\\roaming\\python\\python311\\site-packages (from kandinsky2==0.0.0) (2023.8.8)\n",
      "Requirement already satisfied: numpy in c:\\users\\utkar\\appdata\\roaming\\python\\python311\\site-packages (from kandinsky2==0.0.0) (1.25.2)\n",
      "Requirement already satisfied: blobfile in c:\\users\\utkar\\appdata\\roaming\\python\\python311\\site-packages (from kandinsky2==0.0.0) (2.0.2)\n",
      "Requirement already satisfied: transformers in c:\\users\\utkar\\appdata\\roaming\\python\\python311\\site-packages (from kandinsky2==0.0.0) (4.32.1)\n",
      "Requirement already satisfied: torchvision in c:\\users\\utkar\\appdata\\roaming\\python\\python311\\site-packages (from kandinsky2==0.0.0) (0.15.2)\n",
      "Requirement already satisfied: omegaconf in c:\\users\\utkar\\appdata\\roaming\\python\\python311\\site-packages (from kandinsky2==0.0.0) (2.3.0)\n",
      "Requirement already satisfied: pytorch_lightning in c:\\users\\utkar\\appdata\\roaming\\python\\python311\\site-packages (from kandinsky2==0.0.0) (2.0.8)\n",
      "Requirement already satisfied: einops in c:\\users\\utkar\\appdata\\roaming\\python\\python311\\site-packages (from kandinsky2==0.0.0) (0.6.1)\n",
      "Requirement already satisfied: sentencepiece in c:\\users\\utkar\\appdata\\roaming\\python\\python311\\site-packages (from kandinsky2==0.0.0) (0.1.99)\n",
      "Requirement already satisfied: diffusers in c:\\users\\utkar\\appdata\\roaming\\python\\python311\\site-packages (from kandinsky2==0.0.0) (0.20.1)\n",
      "Requirement already satisfied: accelerate in c:\\users\\utkar\\appdata\\roaming\\python\\python311\\site-packages (from kandinsky2==0.0.0) (0.22.0)\n",
      "Requirement already satisfied: packaging>=20.0 in c:\\users\\utkar\\appdata\\roaming\\python\\python311\\site-packages (from accelerate->kandinsky2==0.0.0) (23.1)\n",
      "Requirement already satisfied: psutil in c:\\users\\utkar\\appdata\\roaming\\python\\python311\\site-packages (from accelerate->kandinsky2==0.0.0) (5.9.5)\n",
      "Requirement already satisfied: pyyaml in c:\\users\\utkar\\appdata\\roaming\\python\\python311\\site-packages (from accelerate->kandinsky2==0.0.0) (6.0.1)\n",
      "Requirement already satisfied: typing-extensions in c:\\users\\utkar\\appdata\\roaming\\python\\python311\\site-packages (from torch->kandinsky2==0.0.0) (4.7.1)\n",
      "Requirement already satisfied: sympy in c:\\users\\utkar\\appdata\\roaming\\python\\python311\\site-packages (from torch->kandinsky2==0.0.0) (1.12)\n",
      "Requirement already satisfied: networkx in c:\\users\\utkar\\appdata\\roaming\\python\\python311\\site-packages (from torch->kandinsky2==0.0.0) (3.1)\n",
      "Requirement already satisfied: jinja2 in c:\\users\\utkar\\appdata\\roaming\\python\\python311\\site-packages (from torch->kandinsky2==0.0.0) (3.1.2)\n",
      "Requirement already satisfied: pycryptodomex~=3.8 in c:\\users\\utkar\\appdata\\roaming\\python\\python311\\site-packages (from blobfile->kandinsky2==0.0.0) (3.18.0)\n",
      "Requirement already satisfied: urllib3<3,>=1.25.3 in c:\\users\\utkar\\appdata\\roaming\\python\\python311\\site-packages (from blobfile->kandinsky2==0.0.0) (2.0.4)\n",
      "Requirement already satisfied: lxml~=4.9 in c:\\users\\utkar\\appdata\\roaming\\python\\python311\\site-packages (from blobfile->kandinsky2==0.0.0) (4.9.3)\n",
      "Requirement already satisfied: importlib-metadata in c:\\users\\utkar\\appdata\\roaming\\python\\python311\\site-packages (from diffusers->kandinsky2==0.0.0) (6.8.0)\n",
      "Requirement already satisfied: huggingface-hub>=0.13.2 in c:\\users\\utkar\\appdata\\roaming\\python\\python311\\site-packages (from diffusers->kandinsky2==0.0.0) (0.16.4)\n",
      "Requirement already satisfied: safetensors>=0.3.1 in c:\\users\\utkar\\appdata\\roaming\\python\\python311\\site-packages (from diffusers->kandinsky2==0.0.0) (0.3.3)\n",
      "Requirement already satisfied: wcwidth>=0.2.5 in c:\\users\\utkar\\appdata\\roaming\\python\\python311\\site-packages (from ftfy->kandinsky2==0.0.0) (0.2.6)\n",
      "Requirement already satisfied: antlr4-python3-runtime==4.9.* in c:\\users\\utkar\\appdata\\roaming\\python\\python311\\site-packages (from omegaconf->kandinsky2==0.0.0) (4.9.3)\n",
      "Requirement already satisfied: fsspec[http]>2021.06.0 in c:\\users\\utkar\\appdata\\roaming\\python\\python311\\site-packages (from pytorch_lightning->kandinsky2==0.0.0) (2023.6.0)\n",
      "Requirement already satisfied: torchmetrics>=0.7.0 in c:\\users\\utkar\\appdata\\roaming\\python\\python311\\site-packages (from pytorch_lightning->kandinsky2==0.0.0) (1.1.1)\n",
      "Requirement already satisfied: lightning-utilities>=0.7.0 in c:\\users\\utkar\\appdata\\roaming\\python\\python311\\site-packages (from pytorch_lightning->kandinsky2==0.0.0) (0.9.0)\n",
      "Requirement already satisfied: colorama in c:\\users\\utkar\\appdata\\roaming\\python\\python311\\site-packages (from tqdm->kandinsky2==0.0.0) (0.4.6)\n",
      "Requirement already satisfied: charset-normalizer<4,>=2 in c:\\users\\utkar\\appdata\\roaming\\python\\python311\\site-packages (from requests->kandinsky2==0.0.0) (3.2.0)\n",
      "Requirement already satisfied: idna<4,>=2.5 in c:\\users\\utkar\\appdata\\roaming\\python\\python311\\site-packages (from requests->kandinsky2==0.0.0) (3.4)\n",
      "Requirement already satisfied: certifi>=2017.4.17 in c:\\users\\utkar\\appdata\\roaming\\python\\python311\\site-packages (from requests->kandinsky2==0.0.0) (2023.7.22)\n",
      "Requirement already satisfied: tokenizers!=0.11.3,<0.14,>=0.11.1 in c:\\users\\utkar\\appdata\\roaming\\python\\python311\\site-packages (from transformers->kandinsky2==0.0.0) (0.13.3)\n",
      "Requirement already satisfied: aiohttp!=4.0.0a0,!=4.0.0a1 in c:\\users\\utkar\\appdata\\roaming\\python\\python311\\site-packages (from fsspec[http]>2021.06.0->pytorch_lightning->kandinsky2==0.0.0) (3.8.5)\n",
      "Requirement already satisfied: zipp>=0.5 in c:\\users\\utkar\\appdata\\roaming\\python\\python311\\site-packages (from importlib-metadata->diffusers->kandinsky2==0.0.0) (3.16.2)\n",
      "Requirement already satisfied: MarkupSafe>=2.0 in c:\\users\\utkar\\appdata\\roaming\\python\\python311\\site-packages (from jinja2->torch->kandinsky2==0.0.0) (2.1.3)\n",
      "Requirement already satisfied: mpmath>=0.19 in c:\\users\\utkar\\appdata\\roaming\\python\\python311\\site-packages (from sympy->torch->kandinsky2==0.0.0) (1.3.0)\n",
      "Requirement already satisfied: multidict<7.0,>=4.5 in c:\\users\\utkar\\appdata\\roaming\\python\\python311\\site-packages (from aiohttp!=4.0.0a0,!=4.0.0a1->fsspec[http]>2021.06.0->pytorch_lightning->kandinsky2==0.0.0) (6.0.4)\n",
      "Requirement already satisfied: async-timeout<5.0,>=4.0.0a3 in c:\\users\\utkar\\appdata\\roaming\\python\\python311\\site-packages (from aiohttp!=4.0.0a0,!=4.0.0a1->fsspec[http]>2021.06.0->pytorch_lightning->kandinsky2==0.0.0) (4.0.3)\n",
      "Requirement already satisfied: yarl<2.0,>=1.0 in c:\\users\\utkar\\appdata\\roaming\\python\\python311\\site-packages (from aiohttp!=4.0.0a0,!=4.0.0a1->fsspec[http]>2021.06.0->pytorch_lightning->kandinsky2==0.0.0) (1.9.2)\n",
      "Requirement already satisfied: frozenlist>=1.1.1 in c:\\users\\utkar\\appdata\\roaming\\python\\python311\\site-packages (from aiohttp!=4.0.0a0,!=4.0.0a1->fsspec[http]>2021.06.0->pytorch_lightning->kandinsky2==0.0.0) (1.4.0)\n",
      "Requirement already satisfied: aiosignal>=1.1.2 in c:\\users\\utkar\\appdata\\roaming\\python\\python311\\site-packages (from aiohttp!=4.0.0a0,!=4.0.0a1->fsspec[http]>2021.06.0->pytorch_lightning->kandinsky2==0.0.0) (1.3.1)\n"
     ]
    },
    {
     "name": "stderr",
     "output_type": "stream",
     "text": [
      "  Running command git clone --filter=blob:none --quiet https://github.com/ai-forever/Kandinsky-2.git 'C:\\Users\\utkar\\AppData\\Local\\Temp\\pip-req-build-8ir5p0wn'\n"
     ]
    },
    {
     "name": "stdout",
     "output_type": "stream",
     "text": [
      "Collecting git+https://github.com/openai/CLIP.git\n",
      "  Cloning https://github.com/openai/CLIP.git to c:\\users\\utkar\\appdata\\local\\temp\\pip-req-build-yull64o9\n",
      "  Resolved https://github.com/openai/CLIP.git to commit a1d071733d7111c9c014f024669f959182114e33\n",
      "  Preparing metadata (setup.py): started\n",
      "  Preparing metadata (setup.py): finished with status 'done'\n",
      "Requirement already satisfied: ftfy in c:\\users\\utkar\\appdata\\roaming\\python\\python311\\site-packages (from clip==1.0) (6.1.1)\n",
      "Requirement already satisfied: regex in c:\\users\\utkar\\appdata\\roaming\\python\\python311\\site-packages (from clip==1.0) (2023.8.8)\n",
      "Requirement already satisfied: tqdm in c:\\users\\utkar\\appdata\\roaming\\python\\python311\\site-packages (from clip==1.0) (4.66.1)\n",
      "Requirement already satisfied: torch in c:\\users\\utkar\\appdata\\roaming\\python\\python311\\site-packages (from clip==1.0) (2.0.1)\n",
      "Requirement already satisfied: torchvision in c:\\users\\utkar\\appdata\\roaming\\python\\python311\\site-packages (from clip==1.0) (0.15.2)\n",
      "Requirement already satisfied: wcwidth>=0.2.5 in c:\\users\\utkar\\appdata\\roaming\\python\\python311\\site-packages (from ftfy->clip==1.0) (0.2.6)\n",
      "Requirement already satisfied: filelock in c:\\users\\utkar\\appdata\\roaming\\python\\python311\\site-packages (from torch->clip==1.0) (3.12.2)\n",
      "Requirement already satisfied: typing-extensions in c:\\users\\utkar\\appdata\\roaming\\python\\python311\\site-packages (from torch->clip==1.0) (4.7.1)\n",
      "Requirement already satisfied: sympy in c:\\users\\utkar\\appdata\\roaming\\python\\python311\\site-packages (from torch->clip==1.0) (1.12)\n",
      "Requirement already satisfied: networkx in c:\\users\\utkar\\appdata\\roaming\\python\\python311\\site-packages (from torch->clip==1.0) (3.1)\n",
      "Requirement already satisfied: jinja2 in c:\\users\\utkar\\appdata\\roaming\\python\\python311\\site-packages (from torch->clip==1.0) (3.1.2)\n",
      "Requirement already satisfied: numpy in c:\\users\\utkar\\appdata\\roaming\\python\\python311\\site-packages (from torchvision->clip==1.0) (1.25.2)\n",
      "Requirement already satisfied: requests in c:\\users\\utkar\\appdata\\roaming\\python\\python311\\site-packages (from torchvision->clip==1.0) (2.31.0)\n",
      "Requirement already satisfied: pillow!=8.3.*,>=5.3.0 in c:\\users\\utkar\\appdata\\roaming\\python\\python311\\site-packages (from torchvision->clip==1.0) (10.0.0)\n",
      "Requirement already satisfied: colorama in c:\\users\\utkar\\appdata\\roaming\\python\\python311\\site-packages (from tqdm->clip==1.0) (0.4.6)\n",
      "Requirement already satisfied: MarkupSafe>=2.0 in c:\\users\\utkar\\appdata\\roaming\\python\\python311\\site-packages (from jinja2->torch->clip==1.0) (2.1.3)\n",
      "Requirement already satisfied: charset-normalizer<4,>=2 in c:\\users\\utkar\\appdata\\roaming\\python\\python311\\site-packages (from requests->torchvision->clip==1.0) (3.2.0)\n",
      "Requirement already satisfied: idna<4,>=2.5 in c:\\users\\utkar\\appdata\\roaming\\python\\python311\\site-packages (from requests->torchvision->clip==1.0) (3.4)\n",
      "Requirement already satisfied: urllib3<3,>=1.21.1 in c:\\users\\utkar\\appdata\\roaming\\python\\python311\\site-packages (from requests->torchvision->clip==1.0) (2.0.4)\n",
      "Requirement already satisfied: certifi>=2017.4.17 in c:\\users\\utkar\\appdata\\roaming\\python\\python311\\site-packages (from requests->torchvision->clip==1.0) (2023.7.22)\n",
      "Requirement already satisfied: mpmath>=0.19 in c:\\users\\utkar\\appdata\\roaming\\python\\python311\\site-packages (from sympy->torch->clip==1.0) (1.3.0)\n"
     ]
    },
    {
     "name": "stderr",
     "output_type": "stream",
     "text": [
      "  Running command git clone --filter=blob:none --quiet https://github.com/openai/CLIP.git 'C:\\Users\\utkar\\AppData\\Local\\Temp\\pip-req-build-yull64o9'\n"
     ]
    }
   ],
   "source": [
    "# pip install \"git+https://github.com/ai-forever/Kandinsky-2.0.git\"\n",
    "!pip install \"git+https://github.com/ai-forever/Kandinsky-2.git\"\n",
    "!pip install \"git+https://github.com/openai/CLIP.git\""
   ]
  },
  {
   "cell_type": "code",
   "execution_count": 5,
   "metadata": {},
   "outputs": [],
   "source": [
    "from kandinsky2 import get_kandinsky2\n",
    "from PIL import Image"
   ]
  },
  {
   "cell_type": "code",
   "execution_count": 7,
   "metadata": {},
   "outputs": [
    {
     "name": "stderr",
     "output_type": "stream",
     "text": [
      "Downloading decoder_fp16.ckpt: 100%|██████████| 2.68G/2.68G [02:11<00:00, 20.4MB/s]\n",
      "Downloading prior_fp16.ckpt: 100%|██████████| 2.04G/2.04G [01:45<00:00, 19.3MB/s]\n",
      "Downloading (…)_encoder/config.json: 100%|██████████| 616/616 [00:00<00:00, 1.18MB/s]\n",
      "Downloading pytorch_model.bin: 100%|██████████| 2.24G/2.24G [01:39<00:00, 22.5MB/s]\n",
      "Downloading (…)tencepiece.bpe.model: 100%|██████████| 5.07M/5.07M [00:01<00:00, 4.12MB/s]\n",
      "Downloading (…)cial_tokens_map.json: 100%|██████████| 239/239 [00:00<?, ?B/s] \n",
      "Downloading (…)coder/tokenizer.json: 100%|██████████| 9.08M/9.08M [00:01<00:00, 5.74MB/s]\n",
      "Downloading (…)okenizer_config.json: 100%|██████████| 399/399 [00:00<?, ?B/s] \n",
      "Downloading movq_final.ckpt: 100%|██████████| 271M/271M [00:12<00:00, 21.3MB/s]\n",
      "Downloading (…)in/ViT-L-14_stats.th: 100%|██████████| 7.08k/7.08k [00:00<00:00, 13.7MB/s]\n"
     ]
    },
    {
     "ename": "RuntimeError",
     "evalue": "Attempting to deserialize object on a CUDA device but torch.cuda.is_available() is False. If you are running on a CPU-only machine, please use torch.load with map_location=torch.device('cpu') to map your storages to the CPU.",
     "output_type": "error",
     "traceback": [
      "\u001b[1;31m---------------------------------------------------------------------------\u001b[0m",
      "\u001b[1;31mRuntimeError\u001b[0m                              Traceback (most recent call last)",
      "Cell \u001b[1;32mIn[7], line 1\u001b[0m\n\u001b[1;32m----> 1\u001b[0m model \u001b[39m=\u001b[39m get_kandinsky2(\u001b[39m'\u001b[39;49m\u001b[39mcuda\u001b[39;49m\u001b[39m'\u001b[39;49m, task_type\u001b[39m=\u001b[39;49m\u001b[39m'\u001b[39;49m\u001b[39mtext2img\u001b[39;49m\u001b[39m'\u001b[39;49m)\n",
      "File \u001b[1;32m~\\AppData\\Roaming\\Python\\Python311\\site-packages\\kandinsky2\\__init__.py:180\u001b[0m, in \u001b[0;36mget_kandinsky2\u001b[1;34m(device, task_type, cache_dir, use_auth_token, model_version, use_flash_attention)\u001b[0m\n\u001b[0;32m    173\u001b[0m     model \u001b[39m=\u001b[39m get_kandinsky2_0(\n\u001b[0;32m    174\u001b[0m         device,\n\u001b[0;32m    175\u001b[0m         task_type\u001b[39m=\u001b[39mtask_type,\n\u001b[0;32m    176\u001b[0m         cache_dir\u001b[39m=\u001b[39mcache_dir,\n\u001b[0;32m    177\u001b[0m         use_auth_token\u001b[39m=\u001b[39muse_auth_token,\n\u001b[0;32m    178\u001b[0m     )\n\u001b[0;32m    179\u001b[0m \u001b[39melif\u001b[39;00m model_version \u001b[39m==\u001b[39m \u001b[39m\"\u001b[39m\u001b[39m2.1\u001b[39m\u001b[39m\"\u001b[39m:\n\u001b[1;32m--> 180\u001b[0m     model \u001b[39m=\u001b[39m get_kandinsky2_1(\n\u001b[0;32m    181\u001b[0m         device,\n\u001b[0;32m    182\u001b[0m         task_type\u001b[39m=\u001b[39;49mtask_type,\n\u001b[0;32m    183\u001b[0m         cache_dir\u001b[39m=\u001b[39;49mcache_dir,\n\u001b[0;32m    184\u001b[0m         use_auth_token\u001b[39m=\u001b[39;49muse_auth_token,\n\u001b[0;32m    185\u001b[0m         use_flash_attention\u001b[39m=\u001b[39;49muse_flash_attention,\n\u001b[0;32m    186\u001b[0m     )\n\u001b[0;32m    187\u001b[0m \u001b[39melif\u001b[39;00m model_version \u001b[39m==\u001b[39m \u001b[39m\"\u001b[39m\u001b[39m2.2\u001b[39m\u001b[39m\"\u001b[39m:\n\u001b[0;32m    188\u001b[0m     model \u001b[39m=\u001b[39m Kandinsky2_2(device\u001b[39m=\u001b[39mdevice, task_type\u001b[39m=\u001b[39mtask_type)\n",
      "File \u001b[1;32m~\\AppData\\Roaming\\Python\\Python311\\site-packages\\kandinsky2\\__init__.py:160\u001b[0m, in \u001b[0;36mget_kandinsky2_1\u001b[1;34m(device, task_type, cache_dir, use_auth_token, use_flash_attention)\u001b[0m\n\u001b[0;32m    158\u001b[0m cache_model_name \u001b[39m=\u001b[39m os\u001b[39m.\u001b[39mpath\u001b[39m.\u001b[39mjoin(cache_dir, model_name)\n\u001b[0;32m    159\u001b[0m cache_prior_name \u001b[39m=\u001b[39m os\u001b[39m.\u001b[39mpath\u001b[39m.\u001b[39mjoin(cache_dir, prior_name)\n\u001b[1;32m--> 160\u001b[0m model \u001b[39m=\u001b[39m Kandinsky2_1(config, cache_model_name, cache_prior_name, device, task_type\u001b[39m=\u001b[39;49mtask_type)\n\u001b[0;32m    161\u001b[0m \u001b[39mreturn\u001b[39;00m model\n",
      "File \u001b[1;32m~\\AppData\\Roaming\\Python\\Python311\\site-packages\\kandinsky2\\kandinsky2_1_model.py:57\u001b[0m, in \u001b[0;36mKandinsky2_1.__init__\u001b[1;34m(self, config, model_path, prior_path, device, task_type)\u001b[0m\n\u001b[0;32m     47\u001b[0m clip_mean, clip_std \u001b[39m=\u001b[39m torch\u001b[39m.\u001b[39mload(\n\u001b[0;32m     48\u001b[0m     config[\u001b[39m\"\u001b[39m\u001b[39mprior\u001b[39m\u001b[39m\"\u001b[39m][\u001b[39m\"\u001b[39m\u001b[39mclip_mean_std_path\u001b[39m\u001b[39m\"\u001b[39m], map_location\u001b[39m=\u001b[39m\u001b[39m\"\u001b[39m\u001b[39mcpu\u001b[39m\u001b[39m\"\u001b[39m\n\u001b[0;32m     49\u001b[0m )\n\u001b[0;32m     51\u001b[0m \u001b[39mself\u001b[39m\u001b[39m.\u001b[39mprior \u001b[39m=\u001b[39m PriorDiffusionModel(\n\u001b[0;32m     52\u001b[0m     config[\u001b[39m\"\u001b[39m\u001b[39mprior\u001b[39m\u001b[39m\"\u001b[39m][\u001b[39m\"\u001b[39m\u001b[39mparams\u001b[39m\u001b[39m\"\u001b[39m],\n\u001b[0;32m     53\u001b[0m     \u001b[39mself\u001b[39m\u001b[39m.\u001b[39mtokenizer2,\n\u001b[0;32m     54\u001b[0m     clip_mean,\n\u001b[0;32m     55\u001b[0m     clip_std,\n\u001b[0;32m     56\u001b[0m )\n\u001b[1;32m---> 57\u001b[0m \u001b[39mself\u001b[39m\u001b[39m.\u001b[39mprior\u001b[39m.\u001b[39mload_state_dict(torch\u001b[39m.\u001b[39;49mload(prior_path), strict\u001b[39m=\u001b[39m\u001b[39mFalse\u001b[39;00m)\n\u001b[0;32m     58\u001b[0m \u001b[39mif\u001b[39;00m \u001b[39mself\u001b[39m\u001b[39m.\u001b[39muse_fp16:\n\u001b[0;32m     59\u001b[0m     \u001b[39mself\u001b[39m\u001b[39m.\u001b[39mprior \u001b[39m=\u001b[39m \u001b[39mself\u001b[39m\u001b[39m.\u001b[39mprior\u001b[39m.\u001b[39mhalf()\n",
      "File \u001b[1;32m~\\AppData\\Roaming\\Python\\Python311\\site-packages\\torch\\serialization.py:809\u001b[0m, in \u001b[0;36mload\u001b[1;34m(f, map_location, pickle_module, weights_only, **pickle_load_args)\u001b[0m\n\u001b[0;32m    807\u001b[0m             \u001b[39mexcept\u001b[39;00m \u001b[39mRuntimeError\u001b[39;00m \u001b[39mas\u001b[39;00m e:\n\u001b[0;32m    808\u001b[0m                 \u001b[39mraise\u001b[39;00m pickle\u001b[39m.\u001b[39mUnpicklingError(UNSAFE_MESSAGE \u001b[39m+\u001b[39m \u001b[39mstr\u001b[39m(e)) \u001b[39mfrom\u001b[39;00m \u001b[39mNone\u001b[39;00m\n\u001b[1;32m--> 809\u001b[0m         \u001b[39mreturn\u001b[39;00m _load(opened_zipfile, map_location, pickle_module, \u001b[39m*\u001b[39;49m\u001b[39m*\u001b[39;49mpickle_load_args)\n\u001b[0;32m    810\u001b[0m \u001b[39mif\u001b[39;00m weights_only:\n\u001b[0;32m    811\u001b[0m     \u001b[39mtry\u001b[39;00m:\n",
      "File \u001b[1;32m~\\AppData\\Roaming\\Python\\Python311\\site-packages\\torch\\serialization.py:1172\u001b[0m, in \u001b[0;36m_load\u001b[1;34m(zip_file, map_location, pickle_module, pickle_file, **pickle_load_args)\u001b[0m\n\u001b[0;32m   1170\u001b[0m unpickler \u001b[39m=\u001b[39m UnpicklerWrapper(data_file, \u001b[39m*\u001b[39m\u001b[39m*\u001b[39mpickle_load_args)\n\u001b[0;32m   1171\u001b[0m unpickler\u001b[39m.\u001b[39mpersistent_load \u001b[39m=\u001b[39m persistent_load\n\u001b[1;32m-> 1172\u001b[0m result \u001b[39m=\u001b[39m unpickler\u001b[39m.\u001b[39;49mload()\n\u001b[0;32m   1174\u001b[0m torch\u001b[39m.\u001b[39m_utils\u001b[39m.\u001b[39m_validate_loaded_sparse_tensors()\n\u001b[0;32m   1176\u001b[0m \u001b[39mreturn\u001b[39;00m result\n",
      "File \u001b[1;32m~\\AppData\\Roaming\\Python\\Python311\\site-packages\\torch\\serialization.py:1142\u001b[0m, in \u001b[0;36m_load.<locals>.persistent_load\u001b[1;34m(saved_id)\u001b[0m\n\u001b[0;32m   1140\u001b[0m \u001b[39melse\u001b[39;00m:\n\u001b[0;32m   1141\u001b[0m     nbytes \u001b[39m=\u001b[39m numel \u001b[39m*\u001b[39m torch\u001b[39m.\u001b[39m_utils\u001b[39m.\u001b[39m_element_size(dtype)\n\u001b[1;32m-> 1142\u001b[0m     typed_storage \u001b[39m=\u001b[39m load_tensor(dtype, nbytes, key, _maybe_decode_ascii(location))\n\u001b[0;32m   1144\u001b[0m \u001b[39mreturn\u001b[39;00m typed_storage\n",
      "File \u001b[1;32m~\\AppData\\Roaming\\Python\\Python311\\site-packages\\torch\\serialization.py:1116\u001b[0m, in \u001b[0;36m_load.<locals>.load_tensor\u001b[1;34m(dtype, numel, key, location)\u001b[0m\n\u001b[0;32m   1112\u001b[0m storage \u001b[39m=\u001b[39m zip_file\u001b[39m.\u001b[39mget_storage_from_record(name, numel, torch\u001b[39m.\u001b[39mUntypedStorage)\u001b[39m.\u001b[39m_typed_storage()\u001b[39m.\u001b[39m_untyped_storage\n\u001b[0;32m   1113\u001b[0m \u001b[39m# TODO: Once we decide to break serialization FC, we can\u001b[39;00m\n\u001b[0;32m   1114\u001b[0m \u001b[39m# stop wrapping with TypedStorage\u001b[39;00m\n\u001b[0;32m   1115\u001b[0m typed_storage \u001b[39m=\u001b[39m torch\u001b[39m.\u001b[39mstorage\u001b[39m.\u001b[39mTypedStorage(\n\u001b[1;32m-> 1116\u001b[0m     wrap_storage\u001b[39m=\u001b[39mrestore_location(storage, location),\n\u001b[0;32m   1117\u001b[0m     dtype\u001b[39m=\u001b[39mdtype,\n\u001b[0;32m   1118\u001b[0m     _internal\u001b[39m=\u001b[39m\u001b[39mTrue\u001b[39;00m)\n\u001b[0;32m   1120\u001b[0m \u001b[39mif\u001b[39;00m typed_storage\u001b[39m.\u001b[39m_data_ptr() \u001b[39m!=\u001b[39m \u001b[39m0\u001b[39m:\n\u001b[0;32m   1121\u001b[0m     loaded_storages[key] \u001b[39m=\u001b[39m typed_storage\n",
      "File \u001b[1;32m~\\AppData\\Roaming\\Python\\Python311\\site-packages\\torch\\serialization.py:217\u001b[0m, in \u001b[0;36mdefault_restore_location\u001b[1;34m(storage, location)\u001b[0m\n\u001b[0;32m    215\u001b[0m \u001b[39mdef\u001b[39;00m \u001b[39mdefault_restore_location\u001b[39m(storage, location):\n\u001b[0;32m    216\u001b[0m     \u001b[39mfor\u001b[39;00m _, _, fn \u001b[39min\u001b[39;00m _package_registry:\n\u001b[1;32m--> 217\u001b[0m         result \u001b[39m=\u001b[39m fn(storage, location)\n\u001b[0;32m    218\u001b[0m         \u001b[39mif\u001b[39;00m result \u001b[39mis\u001b[39;00m \u001b[39mnot\u001b[39;00m \u001b[39mNone\u001b[39;00m:\n\u001b[0;32m    219\u001b[0m             \u001b[39mreturn\u001b[39;00m result\n",
      "File \u001b[1;32m~\\AppData\\Roaming\\Python\\Python311\\site-packages\\torch\\serialization.py:182\u001b[0m, in \u001b[0;36m_cuda_deserialize\u001b[1;34m(obj, location)\u001b[0m\n\u001b[0;32m    180\u001b[0m \u001b[39mdef\u001b[39;00m \u001b[39m_cuda_deserialize\u001b[39m(obj, location):\n\u001b[0;32m    181\u001b[0m     \u001b[39mif\u001b[39;00m location\u001b[39m.\u001b[39mstartswith(\u001b[39m'\u001b[39m\u001b[39mcuda\u001b[39m\u001b[39m'\u001b[39m):\n\u001b[1;32m--> 182\u001b[0m         device \u001b[39m=\u001b[39m validate_cuda_device(location)\n\u001b[0;32m    183\u001b[0m         \u001b[39mif\u001b[39;00m \u001b[39mgetattr\u001b[39m(obj, \u001b[39m\"\u001b[39m\u001b[39m_torch_load_uninitialized\u001b[39m\u001b[39m\"\u001b[39m, \u001b[39mFalse\u001b[39;00m):\n\u001b[0;32m    184\u001b[0m             \u001b[39mwith\u001b[39;00m torch\u001b[39m.\u001b[39mcuda\u001b[39m.\u001b[39mdevice(device):\n",
      "File \u001b[1;32m~\\AppData\\Roaming\\Python\\Python311\\site-packages\\torch\\serialization.py:166\u001b[0m, in \u001b[0;36mvalidate_cuda_device\u001b[1;34m(location)\u001b[0m\n\u001b[0;32m    163\u001b[0m device \u001b[39m=\u001b[39m torch\u001b[39m.\u001b[39mcuda\u001b[39m.\u001b[39m_utils\u001b[39m.\u001b[39m_get_device_index(location, \u001b[39mTrue\u001b[39;00m)\n\u001b[0;32m    165\u001b[0m \u001b[39mif\u001b[39;00m \u001b[39mnot\u001b[39;00m torch\u001b[39m.\u001b[39mcuda\u001b[39m.\u001b[39mis_available():\n\u001b[1;32m--> 166\u001b[0m     \u001b[39mraise\u001b[39;00m \u001b[39mRuntimeError\u001b[39;00m(\u001b[39m'\u001b[39m\u001b[39mAttempting to deserialize object on a CUDA \u001b[39m\u001b[39m'\u001b[39m\n\u001b[0;32m    167\u001b[0m                        \u001b[39m'\u001b[39m\u001b[39mdevice but torch.cuda.is_available() is False. \u001b[39m\u001b[39m'\u001b[39m\n\u001b[0;32m    168\u001b[0m                        \u001b[39m'\u001b[39m\u001b[39mIf you are running on a CPU-only machine, \u001b[39m\u001b[39m'\u001b[39m\n\u001b[0;32m    169\u001b[0m                        \u001b[39m'\u001b[39m\u001b[39mplease use torch.load with map_location=torch.device(\u001b[39m\u001b[39m\\'\u001b[39;00m\u001b[39mcpu\u001b[39m\u001b[39m\\'\u001b[39;00m\u001b[39m) \u001b[39m\u001b[39m'\u001b[39m\n\u001b[0;32m    170\u001b[0m                        \u001b[39m'\u001b[39m\u001b[39mto map your storages to the CPU.\u001b[39m\u001b[39m'\u001b[39m)\n\u001b[0;32m    171\u001b[0m device_count \u001b[39m=\u001b[39m torch\u001b[39m.\u001b[39mcuda\u001b[39m.\u001b[39mdevice_count()\n\u001b[0;32m    172\u001b[0m \u001b[39mif\u001b[39;00m device \u001b[39m>\u001b[39m\u001b[39m=\u001b[39m device_count:\n",
      "\u001b[1;31mRuntimeError\u001b[0m: Attempting to deserialize object on a CUDA device but torch.cuda.is_available() is False. If you are running on a CPU-only machine, please use torch.load with map_location=torch.device('cpu') to map your storages to the CPU."
     ]
    }
   ],
   "source": [
    "model = get_kandinsky2('cuda', task_type='text2img')"
   ]
  },
  {
   "cell_type": "code",
   "execution_count": null,
   "metadata": {},
   "outputs": [],
   "source": [
    "init_image = Image.open('image.jpg')\n",
    "images = model.generate_img2img('a blue frog', init_image, strength=0.8, num_steps=50, sampler='ddim_sampler', guidance_scale=10)\n",
    "# images = model.generate_img2img('pcb circuit', init_image, strength=0.8, num_steps=50, sampler='ddim_sampler', guidance_scale=10)\n",
    "\n",
    "# images = model.generate_img2img('''red cat, 4k photo''', num_steps=100,\n",
    "#                           batch_size=1, guidance_scale=4,\n",
    "#                            h=768, w=768\n",
    "#                            ,sampler='p_sampler', prior_cf_scale=4,\n",
    "#                             prior_steps=\"5\",)"
   ]
  },
  {
   "cell_type": "code",
   "execution_count": null,
   "metadata": {},
   "outputs": [],
   "source": [
    "images[0]"
   ]
  }
 ],
 "metadata": {
  "kernelspec": {
   "display_name": "kandinsky_env",
   "language": "python",
   "name": "python3"
  },
  "language_info": {
   "codemirror_mode": {
    "name": "ipython",
    "version": 3
   },
   "file_extension": ".py",
   "mimetype": "text/x-python",
   "name": "python",
   "nbconvert_exporter": "python",
   "pygments_lexer": "ipython3",
   "version": "3.11.4"
  },
  "orig_nbformat": 4
 },
 "nbformat": 4,
 "nbformat_minor": 2
}
