{
 "cells": [
  {
   "cell_type": "code",
   "execution_count": null,
   "metadata": {},
   "outputs": [],
   "source": [
    "from diffusers import KandinskyPipeline, KandinskyPriorPipeline\n",
    "import torch\n",
    "\n",
    "\n",
    "pipe_prior = KandinskyPriorPipeline.from_pretrained(\"kandinsky-community/kandinsky-2-1-prior\", torch_dtype=torch.float16)\n",
    "pipe_prior.to(\"cuda\")\n",
    "\n",
    "prompt = \"A alien cheeseburger creature eating itself, claymation, cinematic, moody lighting\"\n",
    "negative_prompt = \"low quality, bad quality\"\n",
    "\n",
    "image_emb = pipe_prior(\n",
    "    prompt, guidance_scale=1.0, num_inference_steps=25, generator=generator, negative_prompt=negative_prompt\n",
    ").images\n",
    "\n",
    "zero_image_emb = pipe_prior(\n",
    "    negative_prompt, guidance_scale=1.0, num_inference_steps=25, generator=generator, negative_prompt=negative_prompt\n",
    ").images\n",
    "\n",
    "pipe = KandinskyPipeline.from_pretrained(\"kandinsky-community/kandinsky-2-1\", torch_dtype=torch.float16)\n",
    "pipe.to(\"cuda\")\n",
    "\n",
    "\n",
    "images = pipe(\n",
    "    prompt,\n",
    "    image_embeds=image_emb,\n",
    "    negative_image_embeds=zero_image_emb,\n",
    "    num_images_per_prompt=2,\n",
    "    height=768,\n",
    "    width=768,\n",
    "    num_inference_steps=100,\n",
    "    guidance_scale=4.0,\n",
    "    generator=generator,\n",
    ").images[0]\n",
    "\n",
    "image.save(\"./cheeseburger_monster.png\")\n"
   ]
  }
 ],
 "metadata": {
  "language_info": {
   "name": "python"
  },
  "orig_nbformat": 4
 },
 "nbformat": 4,
 "nbformat_minor": 2
}
