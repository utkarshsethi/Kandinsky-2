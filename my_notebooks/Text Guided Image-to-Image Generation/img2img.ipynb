{
 "cells": [
  {
   "cell_type": "code",
   "execution_count": null,
   "metadata": {},
   "outputs": [],
   "source": [
    "from diffusers import KandinskyImg2ImgPipeline, KandinskyPriorPipeline\n",
    "import torch\n",
    "\n",
    "from PIL import Image\n",
    "import requests\n",
    "from io import BytesIO\n",
    "\n",
    "url = \"https://raw.githubusercontent.com/CompVis/stable-diffusion/main/assets/stable-samples/img2img/sketch-mountains-input.jpg\"\n",
    "response = requests.get(url)\n",
    "original_image = Image.open(BytesIO(response.content)).convert(\"RGB\")\n",
    "original_image = original_image.resize((768, 512))\n",
    "\n",
    "# create prior\n",
    "pipe_prior = KandinskyPriorPipeline.from_pretrained(\"kandinsky-community/kandinsky-2-1-prior\", torch_dtype=torch.float16)\n",
    "pipe_prior.to(\"cuda\")\n",
    "\n",
    "# create img2img pipeline\n",
    "pipe = KandinskyImg2ImgPipeline.from_pretrained(\"kandinsky-community/kandinsky-2-1\", torch_dtype=torch.float16)\n",
    "pipe.to(\"cuda\")\n",
    "\n",
    "prompt = \"A fantasy landscape, Cinematic lighting\"\n",
    "negative_prompt = \"low quality, bad quality\"\n",
    "\n",
    "image_emb = pipe_prior(\n",
    "    prompt, guidance_scale=4.0, num_inference_steps=25, generator=generator, negative_prompt=negative_prompt\n",
    ").images\n",
    "\n",
    "zero_image_emb = pipe_prior(\n",
    "    negative_prompt, guidance_scale=4.0, num_inference_steps=25, generator=generator, negative_prompt=negative_prompt\n",
    ").images\n",
    "\n",
    "out = pipe(\n",
    "    prompt,\n",
    "    image=original_image,\n",
    "    image_embeds=image_emb,\n",
    "    negative_image_embeds=zero_image_emb,\n",
    "    height=768,\n",
    "    width=768,\n",
    "    num_inference_steps=500,\n",
    "    strength=0.3,\n",
    ")\n",
    "\n",
    "out.images[0].save(\"fantasy_land.png\")\n"
   ]
  }
 ],
 "metadata": {
  "language_info": {
   "name": "python"
  },
  "orig_nbformat": 4
 },
 "nbformat": 4,
 "nbformat_minor": 2
}
